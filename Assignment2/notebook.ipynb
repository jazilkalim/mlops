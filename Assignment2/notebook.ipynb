{
 "cells": [
  {
   "cell_type": "code",
   "execution_count": 3,
   "id": "51651b5e",
   "metadata": {},
   "outputs": [],
   "source": [
    "import pandas as pd\n",
    "import numpy as np\n",
    "import os"
   ]
  },
  {
   "cell_type": "code",
   "execution_count": null,
   "id": "2394da96",
   "metadata": {},
   "outputs": [],
   "source": [
    "# scripts/preprocess.py\n",
    "import pandas as pd\n",
    "\n",
    "def load_data():\n",
    "    df = pd.read_csv(\"data/athletes.csv\")\n",
    "    print(df.head())\n",
    "    return df\n"
   ]
  },
  {
   "cell_type": "code",
   "execution_count": null,
   "id": "81315bbd",
   "metadata": {},
   "outputs": [],
   "source": [
    "data = load_data()\n",
    "from datetime import datetime\n",
    "\n",
    "# Cleaning as before\n",
    "data = data.dropna(subset=['region','age','weight','height','howlong','gender','eat',\n",
    "                           'train','background','experience','schedule','deadlift',\n",
    "                           'candj','snatch','backsq'])\n",
    "data = data.drop(columns=['affiliate','team','name','athlete_id','fran','helen','grace',\n",
    "                          'filthy50','fgonebad','run400','run5k','pullups','train'], errors='ignore')\n",
    "data = data[data['weight'] < 1500]\n",
    "data = data[data['gender'] != '--']\n",
    "data = data[data['age'] >= 18]\n",
    "data = data[(data['height'] < 96) & (data['height'] > 48)]\n",
    "data = data[(data['deadlift'] > 0) & ((data['deadlift'] <= 1105) | ((data['gender'] == 'Female') & (data['deadlift'] <= 636)))]\n",
    "data = data[(data['candj'] > 0) & (data['candj'] <= 395)]\n",
    "data = data[(data['snatch'] > 0) & (data['snatch'] <= 496)]\n",
    "data = data[(data['backsq'] > 0) & (data['backsq'] <= 1069)]\n",
    "\n",
    "decline_dict = {'Decline to answer|': np.nan}\n",
    "data = data.replace(decline_dict)\n",
    "data = data.dropna(subset=['background','experience','schedule','howlong','eat'])\n",
    "\n",
    "# Add timestamp\n",
    "data[\"timestamp\"] = datetime.now()\n",
    "\n",
    "# Save cleaned file for Feast source\n",
    "data.to_csv(\"data/athletes.csv\", index=False)\n"
   ]
  },
  {
   "cell_type": "code",
   "execution_count": 2,
   "id": "3171ae71",
   "metadata": {},
   "outputs": [
    {
     "name": "stderr",
     "output_type": "stream",
     "text": [
      "d:\\UCHICAGO\\UChicago Courses\\Machine Learning Operations\\Week3\\mlops_assignment2\\venv\\features\\venv\\Lib\\site-packages\\tqdm\\auto.py:21: TqdmWarning: IProgress not found. Please update jupyter and ipywidgets. See https://ipywidgets.readthedocs.io/en/stable/user_install.html\n",
      "  from .autonotebook import tqdm as notebook_tqdm\n",
      "None of PyTorch, TensorFlow >= 2.0, or Flax have been found. Models won't be available and only tokenizers, configuration and file/data utilities can be used.\n"
     ]
    }
   ],
   "source": [
    "# features/feature_repo/example_feature_view.py\n",
    "\n",
    "from feast import FeatureView, Field\n",
    "from feast.types import Float32, String\n",
    "from feast.infra.offline_stores.file_source import FileSource\n",
    "from datetime import timedelta\n",
    "\n",
    "athletes_source = FileSource(\n",
    "    path=\"../data/athletes.csv\",\n",
    "    event_timestamp_column=\"timestamp\"\n",
    ")\n",
    "\n",
    "athletes_view_v1 = FeatureView(\n",
    "    name=\"athlete_features_v1\",\n",
    "    ttl=timedelta(days=365),\n",
    "    entities=[],\n",
    "    schema=[\n",
    "        Field(name=\"height\", dtype=Float32),\n",
    "        Field(name=\"weight\", dtype=Float32),\n",
    "    ],\n",
    "    source=athletes_source,\n",
    ")\n",
    "\n",
    "athletes_view_v2 = FeatureView(\n",
    "    name=\"athlete_features_v2\",\n",
    "    ttl=timedelta(days=365),\n",
    "    entities=[],\n",
    "    schema=[\n",
    "        Field(name=\"height\", dtype=Float32),\n",
    "        Field(name=\"weight\", dtype=Float32),\n",
    "        Field(name=\"age\", dtype=Float32),\n",
    "    ],\n",
    "    source=athletes_source,\n",
    ")\n"
   ]
  },
  {
   "cell_type": "code",
   "execution_count": 3,
   "id": "7b16dc78",
   "metadata": {},
   "outputs": [
    {
     "data": {
      "text/plain": [
       "'d:\\\\UCHICAGO\\\\UChicago Courses\\\\Machine Learning Operations\\\\Week3\\\\mlops_assignment2\\\\venv\\\\notebooks'"
      ]
     },
     "execution_count": 3,
     "metadata": {},
     "output_type": "execute_result"
    }
   ],
   "source": [
    "import os\n",
    "os.getcwd()"
   ]
  },
  {
   "cell_type": "code",
   "execution_count": 7,
   "id": "8643b4f0",
   "metadata": {},
   "outputs": [],
   "source": [
    "os.chdir(\"d:\\\\UCHICAGO\\\\UChicago Courses\\\\Machine Learning Operations\\\\Week3\\\\mlops_assignment2\\\\venv\\\\features\\\\feature_repo\\\\feature_repo\")"
   ]
  },
  {
   "cell_type": "code",
   "execution_count": 8,
   "id": "dfc686ce",
   "metadata": {},
   "outputs": [
    {
     "name": "stdout",
     "output_type": "stream",
     "text": [
      "Applying changes for project feature_repo\n",
      "Created project feature_repo\n",
      "Created entity driver\n",
      "Created feature view driver_hourly_stats_fresh\n",
      "Created feature view driver_hourly_stats\n",
      "Created on demand feature view transformed_conv_rate_fresh\n",
      "Created on demand feature view transformed_conv_rate\n",
      "Created feature service driver_activity_v1\n",
      "Created feature service driver_activity_v3\n",
      "Created feature service driver_activity_v2\n",
      "\n",
      "Created sqlite table feature_repo_driver_hourly_stats_fresh\n",
      "Created sqlite table feature_repo_driver_hourly_stats\n",
      "\n"
     ]
    },
    {
     "name": "stderr",
     "output_type": "stream",
     "text": [
      "None of PyTorch, TensorFlow >= 2.0, or Flax have been found. Models won't be available and only tokenizers, configuration and file/data utilities can be used.\n",
      "d:\\UCHICAGO\\UChicago Courses\\Machine Learning Operations\\Week3\\mlops_assignment2\\venv\\features\\feature_repo\\feature_repo\\example_repo.py:34: SyntaxWarning: invalid escape sequence '\\d'\n",
      "  path=\"data\\driver_stats.parquet\",\n",
      "d:\\UCHICAGO\\UChicago Courses\\Machine Learning Operations\\Week3\\mlops_assignment2\\venv\\features\\feature_repo\\feature_repo\\example_repo.py:27: DeprecationWarning: Entity value_type will be mandatory in the next release. Please specify a value_type for entity 'driver'.\n",
      "  driver = Entity(name=\"driver\", join_keys=[\"driver_id\"])\n",
      "D:\\UCHICAGO\\UChicago Courses\\Machine Learning Operations\\Week3\\mlops_assignment2\\venv\\features\\venv\\Lib\\site-packages\\feast\\feature_store.py:580: RuntimeWarning: On demand feature view is an experimental feature. This API is stable, but the functionality does not scale well for offline retrieval\n",
      "  warnings.warn(\n"
     ]
    }
   ],
   "source": [
    "!feast apply"
   ]
  },
  {
   "cell_type": "code",
   "execution_count": null,
   "id": "a22c61e4",
   "metadata": {},
   "outputs": [],
   "source": [
    "store = FeatureStore(repo_path=\"features/feature_repo/feature_repo/\")\n",
    "version = \"v1\"  # or \"v1\"\n",
    "\n",
    "feature_view = f\"athlete_features_{version}\"\n",
    "\n",
    "entity_df = pd.read_csv(\"data/athletes.csv\")[[\"timestamp\", \"deadlift\"]]  # must include label\n",
    "\n",
    "data = store.get_historical_features(\n",
    "    entity_df=entity_df,\n",
    "    features=store.get_feature_view(feature_view).features\n",
    ").to_df()"
   ]
  },
  {
   "cell_type": "code",
   "execution_count": 18,
   "id": "cab1f6f8",
   "metadata": {},
   "outputs": [],
   "source": [
    "data.to_csv(\"df.csv\", index=False)"
   ]
  },
  {
   "cell_type": "code",
   "execution_count": null,
   "id": "99dccfb0",
   "metadata": {},
   "outputs": [],
   "source": []
  },
  {
   "cell_type": "code",
   "execution_count": 14,
   "id": "eed33bac",
   "metadata": {},
   "outputs": [
    {
     "data": {
      "text/plain": [
       "Index(['region', 'gender', 'age', 'height', 'weight', 'candj', 'snatch',\n",
       "       'deadlift', 'backsq', 'eat', 'background', 'experience', 'schedule',\n",
       "       'howlong'],\n",
       "      dtype='object')"
      ]
     },
     "execution_count": 14,
     "metadata": {},
     "output_type": "execute_result"
    }
   ],
   "source": [
    "data.columns"
   ]
  },
  {
   "cell_type": "markdown",
   "id": "9ba6a248",
   "metadata": {},
   "source": [
    "###  Train.py file which we will call from terminal"
   ]
  },
  {
   "cell_type": "code",
   "execution_count": null,
   "id": "81f2ef01",
   "metadata": {},
   "outputs": [],
   "source": [
    "# scripts/train.py\n",
    "\n",
    "import argparse\n",
    "import mlflow\n",
    "import pandas as pd\n",
    "import numpy as np\n",
    "from sklearn.pipeline import Pipeline\n",
    "from sklearn.compose import ColumnTransformer\n",
    "from sklearn.preprocessing import StandardScaler, OneHotEncoder\n",
    "from sklearn.linear_model import Ridge\n",
    "from sklearn.metrics import mean_squared_error\n",
    "from codecarbon import EmissionsTracker\n",
    "\n",
    "\n",
    "def load_and_preprocess_data():\n",
    "    # Load raw data\n",
    "    data = pd.read_csv(\"data/athletes.csv\")\n",
    "\n",
    "    # Drop rows with missing values in key columns\n",
    "    data = data.dropna(subset=[\n",
    "        'region', 'age', 'weight', 'height', 'howlong', 'gender', 'eat',\n",
    "        'background', 'experience', 'schedule', 'deadlift', 'candj',\n",
    "        'snatch', 'backsq'\n",
    "    ])\n",
    "\n",
    "    # Drop unused columns\n",
    "    # data = data.drop(columns=[\n",
    "    #     'affiliate', 'team', 'name', 'athlete_id', 'fran', 'helen', 'grace',\n",
    "    #     'filthy50', 'fgonebad', 'run400', 'run5k', 'pullups', 'train'\n",
    "    # ], errors='ignore')\n",
    "\n",
    "    # # Remove outliers and incorrect data\n",
    "    # data = data[data['weight'] < 1500]\n",
    "    # data = data[data['gender'] != '--']\n",
    "    # data = data[data['age'] >= 18]\n",
    "    # data = data[(data['height'] < 96) & (data['height'] > 48)]\n",
    "\n",
    "    # data = data[(data['deadlift'] > 0) & (\n",
    "    #     (data['deadlift'] <= 1105) | ((data['gender'] == 'Female') & (data['deadlift'] <= 636))\n",
    "    # )]\n",
    "    # data = data[(data['candj'] > 0) & (data['candj'] <= 395)]\n",
    "    # data = data[(data['snatch'] > 0) & (data['snatch'] <= 496)]\n",
    "    # data = data[(data['backsq'] > 0) & (data['backsq'] <= 1069)]\n",
    "\n",
    "    # # Replace and drop declined survey answers\n",
    "    # decline_dict = {'Decline to answer|': np.nan}\n",
    "    # data = data.replace(decline_dict)\n",
    "    # data = data.dropna(subset=['background', 'experience', 'schedule', 'howlong', 'eat'])\n",
    "\n",
    "    return data.copy()\n",
    "\n",
    "\n",
    "def train_model(df, version, alpha, features):\n",
    "    mlflow.set_tracking_uri(\"file:./mlruns\")\n",
    "    mlflow.set_experiment(\"athlete_experiment\")\n",
    "\n",
    "    # Define target and features\n",
    "    y = df[\"deadlift\"]\n",
    "    X = df[features]\n",
    "\n",
    "    # Determine which columns are numeric or categorical\n",
    "    numeric_features = X.select_dtypes(include=[\"int64\", \"float64\"]).columns.tolist()\n",
    "    categorical_features = X.select_dtypes(include=[\"object\", \"category\"]).columns.tolist()\n",
    "\n",
    "    # Create preprocessing pipeline\n",
    "    preprocessor = ColumnTransformer(\n",
    "        transformers=[\n",
    "            ('num', StandardScaler(), numeric_features),\n",
    "            ('cat', OneHotEncoder(handle_unknown='ignore'), categorical_features)\n",
    "        ]\n",
    "    )\n",
    "\n",
    "    # Full pipeline: preprocessing + Ridge regression\n",
    "    pipeline = Pipeline([\n",
    "        ('preprocessor', preprocessor),\n",
    "        ('regressor', Ridge(alpha=alpha))\n",
    "    ])\n",
    "\n",
    "    tracker = EmissionsTracker()\n",
    "    tracker.start()\n",
    "\n",
    "    try:\n",
    "        with mlflow.start_run():\n",
    "            pipeline.fit(X, y)\n",
    "            preds = pipeline.predict(X)\n",
    "            mse = mean_squared_error(y, preds)\n",
    "\n",
    "            mlflow.log_param(\"feature_version\", version)\n",
    "            mlflow.log_param(\"alpha\", alpha)\n",
    "            mlflow.log_param(\"features\", features)\n",
    "            mlflow.log_metric(\"mse\", mse)\n",
    "\n",
    "            mlflow.sklearn.log_model(pipeline, \"pipeline_model\")\n",
    "\n",
    "            emissions = tracker.stop()\n",
    "            mlflow.log_metric(\"carbon_emissions_kg\", emissions)\n",
    "\n",
    "    except Exception as e:\n",
    "        print(f\"An error occurred: {e}\")\n",
    "        tracker.stop()\n",
    "\n",
    "\n",
    "if __name__ == \"__main__\":\n",
    "    parser = argparse.ArgumentParser()\n",
    "    parser.add_argument(\"--version\", type=str, required=True)\n",
    "    parser.add_argument(\"--alpha\", type=float, required=True)\n",
    "    parser.add_argument(\"--features\", nargs=\"+\", required=True)\n",
    "    args = parser.parse_args()\n",
    "\n",
    "    df = load_and_preprocess_data()\n",
    "    train_model(df, args.version, args.alpha, args.features)\n"
   ]
  },
  {
   "cell_type": "code",
   "execution_count": 17,
   "id": "aebdfba1",
   "metadata": {},
   "outputs": [
    {
     "data": {
      "text/plain": [
       "'d:\\\\UCHICAGO\\\\UChicago Courses\\\\Machine Learning Operations\\\\Week3\\\\mlops_assignment2\\\\venv'"
      ]
     },
     "execution_count": 17,
     "metadata": {},
     "output_type": "execute_result"
    }
   ],
   "source": [
    "os.getcwd()"
   ]
  },
  {
   "cell_type": "code",
   "execution_count": 4,
   "id": "c7af1bd6",
   "metadata": {},
   "outputs": [],
   "source": [
    "os.chdir(\"d:\\\\UCHICAGO\\\\UChicago Courses\\\\Machine Learning Operations\\\\Week3\\\\mlops_assignment2\\\\venv\\\\\")"
   ]
  },
  {
   "cell_type": "code",
   "execution_count": 5,
   "id": "f5a14553",
   "metadata": {},
   "outputs": [
    {
     "name": "stderr",
     "output_type": "stream",
     "text": [
      "2025/07/15 19:46:37 INFO mlflow.tracking.fluent: Experiment with name 'athlete_experiment2' does not exist. Creating a new experiment.\n",
      "[codecarbon WARNING @ 19:46:37] Multiple instances of codecarbon are allowed to run at the same time.\n",
      "[codecarbon INFO @ 19:46:37] [setup] RAM Tracking...\n",
      "[codecarbon INFO @ 19:46:37] [setup] CPU Tracking...\n",
      "[codecarbon WARNING @ 19:46:39] No CPU tracking mode found. Falling back on estimation based on TDP for CPU. \n",
      " Windows OS detected: Please install Intel Power Gadget to measure CPU\n",
      "\n",
      "[codecarbon INFO @ 19:46:39] CPU Model on constant consumption mode: 11th Gen Intel(R) Core(TM) i7-1165G7 @ 2.80GHz\n",
      "[codecarbon WARNING @ 19:46:39] No CPU tracking mode found. Falling back on CPU constant mode.\n",
      "[codecarbon INFO @ 19:46:39] [setup] GPU Tracking...\n",
      "[codecarbon INFO @ 19:46:39] No GPU found.\n",
      "[codecarbon INFO @ 19:46:39] The below tracking methods have been set up:\n",
      "                RAM Tracking Method: RAM power estimation model\n",
      "                CPU Tracking Method: global constant\n",
      "                GPU Tracking Method: Unspecified\n",
      "            \n",
      "[codecarbon INFO @ 19:46:39] >>> Tracker's metadata:\n",
      "[codecarbon INFO @ 19:46:39]   Platform system: Windows-11-10.0.26100-SP0\n",
      "[codecarbon INFO @ 19:46:39]   Python version: 3.12.3\n",
      "[codecarbon INFO @ 19:46:39]   CodeCarbon version: 3.0.2\n",
      "[codecarbon INFO @ 19:46:39]   Available RAM : 31.709 GB\n",
      "[codecarbon INFO @ 19:46:39]   CPU count: 8 thread(s) in 8 physical CPU(s)\n",
      "[codecarbon INFO @ 19:46:39]   CPU model: 11th Gen Intel(R) Core(TM) i7-1165G7 @ 2.80GHz\n",
      "[codecarbon INFO @ 19:46:39]   GPU count: None\n",
      "[codecarbon INFO @ 19:46:39]   GPU model: None\n",
      "[codecarbon INFO @ 19:46:42] Emissions data (if any) will be saved to file d:\\UCHICAGO\\UChicago Courses\\Machine Learning Operations\\Week3\\mlops_assignment2\\venv\\emissions.csv\n",
      "2025/07/15 19:46:43 WARNING mlflow.models.model: `artifact_path` is deprecated. Please use `name` instead.\n",
      "2025/07/15 19:46:50 WARNING mlflow.models.model: Model logged without a signature and input example. Please set `input_example` parameter when logging the model to auto infer the model signature.\n",
      "[codecarbon INFO @ 19:46:50] Energy consumed for RAM : 0.000045 kWh. RAM Power : 20.0 W\n",
      "[codecarbon INFO @ 19:46:50] Delta energy consumed for CPU with constant : 0.000250 kWh, power : 112.0 W\n",
      "[codecarbon INFO @ 19:46:50] Energy consumed for All CPU : 0.000250 kWh\n",
      "[codecarbon INFO @ 19:46:50] 0.000295 kWh of electricity used since the beginning.\n"
     ]
    }
   ],
   "source": [
    "!python mlflow_scripts/train.py --version v1 --alpha 0.5 --features height weight"
   ]
  },
  {
   "cell_type": "code",
   "execution_count": 20,
   "id": "191208ce",
   "metadata": {},
   "outputs": [
    {
     "name": "stderr",
     "output_type": "stream",
     "text": [
      "[codecarbon WARNING @ 21:43:42] Multiple instances of codecarbon are allowed to run at the same time.\n",
      "[codecarbon INFO @ 21:43:42] [setup] RAM Tracking...\n",
      "[codecarbon INFO @ 21:43:42] [setup] CPU Tracking...\n",
      "[codecarbon WARNING @ 21:43:44] No CPU tracking mode found. Falling back on estimation based on TDP for CPU. \n",
      " Windows OS detected: Please install Intel Power Gadget to measure CPU\n",
      "\n",
      "[codecarbon INFO @ 21:43:44] CPU Model on constant consumption mode: 11th Gen Intel(R) Core(TM) i7-1165G7 @ 2.80GHz\n",
      "[codecarbon WARNING @ 21:43:44] No CPU tracking mode found. Falling back on CPU constant mode.\n",
      "[codecarbon INFO @ 21:43:44] [setup] GPU Tracking...\n",
      "[codecarbon INFO @ 21:43:44] No GPU found.\n",
      "[codecarbon INFO @ 21:43:44] The below tracking methods have been set up:\n",
      "                RAM Tracking Method: RAM power estimation model\n",
      "                CPU Tracking Method: global constant\n",
      "                GPU Tracking Method: Unspecified\n",
      "            \n",
      "[codecarbon INFO @ 21:43:44] >>> Tracker's metadata:\n",
      "[codecarbon INFO @ 21:43:44]   Platform system: Windows-11-10.0.26100-SP0\n",
      "[codecarbon INFO @ 21:43:44]   Python version: 3.12.3\n",
      "[codecarbon INFO @ 21:43:44]   CodeCarbon version: 3.0.2\n",
      "[codecarbon INFO @ 21:43:44]   Available RAM : 31.709 GB\n",
      "[codecarbon INFO @ 21:43:44]   CPU count: 8 thread(s) in 8 physical CPU(s)\n",
      "[codecarbon INFO @ 21:43:44]   CPU model: 11th Gen Intel(R) Core(TM) i7-1165G7 @ 2.80GHz\n",
      "[codecarbon INFO @ 21:43:44]   GPU count: None\n",
      "[codecarbon INFO @ 21:43:44]   GPU model: None\n",
      "[codecarbon INFO @ 21:43:47] Emissions data (if any) will be saved to file d:\\UCHICAGO\\UChicago Courses\\Machine Learning Operations\\Week3\\mlops_assignment2\\venv\\emissions.csv\n",
      "2025/07/14 21:43:47 WARNING mlflow.models.model: `artifact_path` is deprecated. Please use `name` instead.\n",
      "2025/07/14 21:43:52 WARNING mlflow.models.model: Model logged without a signature and input example. Please set `input_example` parameter when logging the model to auto infer the model signature.\n",
      "[codecarbon INFO @ 21:43:52] Energy consumed for RAM : 0.000029 kWh. RAM Power : 20.0 W\n",
      "[codecarbon INFO @ 21:43:52] Delta energy consumed for CPU with constant : 0.000161 kWh, power : 112.0 W\n",
      "[codecarbon INFO @ 21:43:52] Energy consumed for All CPU : 0.000161 kWh\n",
      "[codecarbon INFO @ 21:43:52] 0.000190 kWh of electricity used since the beginning.\n"
     ]
    }
   ],
   "source": [
    "!python mlflow_scripts/train.py --version v1 --alpha 0.5 --features height weight"
   ]
  },
  {
   "cell_type": "code",
   "execution_count": 14,
   "id": "a0f6b900",
   "metadata": {},
   "outputs": [
    {
     "name": "stderr",
     "output_type": "stream",
     "text": [
      "[codecarbon WARNING @ 21:33:02] Multiple instances of codecarbon are allowed to run at the same time.\n",
      "[codecarbon INFO @ 21:33:02] [setup] RAM Tracking...\n",
      "[codecarbon INFO @ 21:33:02] [setup] CPU Tracking...\n",
      "[codecarbon WARNING @ 21:33:04] No CPU tracking mode found. Falling back on estimation based on TDP for CPU. \n",
      " Windows OS detected: Please install Intel Power Gadget to measure CPU\n",
      "\n",
      "[codecarbon INFO @ 21:33:04] CPU Model on constant consumption mode: 11th Gen Intel(R) Core(TM) i7-1165G7 @ 2.80GHz\n",
      "[codecarbon WARNING @ 21:33:04] No CPU tracking mode found. Falling back on CPU constant mode.\n",
      "[codecarbon INFO @ 21:33:04] [setup] GPU Tracking...\n",
      "[codecarbon INFO @ 21:33:04] No GPU found.\n",
      "[codecarbon INFO @ 21:33:04] The below tracking methods have been set up:\n",
      "                RAM Tracking Method: RAM power estimation model\n",
      "                CPU Tracking Method: global constant\n",
      "                GPU Tracking Method: Unspecified\n",
      "            \n",
      "[codecarbon INFO @ 21:33:04] >>> Tracker's metadata:\n",
      "[codecarbon INFO @ 21:33:04]   Platform system: Windows-11-10.0.26100-SP0\n",
      "[codecarbon INFO @ 21:33:04]   Python version: 3.12.3\n",
      "[codecarbon INFO @ 21:33:04]   CodeCarbon version: 3.0.2\n",
      "[codecarbon INFO @ 21:33:04]   Available RAM : 31.709 GB\n",
      "[codecarbon INFO @ 21:33:04]   CPU count: 8 thread(s) in 8 physical CPU(s)\n",
      "[codecarbon INFO @ 21:33:04]   CPU model: 11th Gen Intel(R) Core(TM) i7-1165G7 @ 2.80GHz\n",
      "[codecarbon INFO @ 21:33:04]   GPU count: None\n",
      "[codecarbon INFO @ 21:33:04]   GPU model: None\n",
      "[codecarbon INFO @ 21:33:07] Emissions data (if any) will be saved to file d:\\UCHICAGO\\UChicago Courses\\Machine Learning Operations\\Week3\\mlops_assignment2\\venv\\emissions.csv\n",
      "2025/07/14 21:33:08 WARNING mlflow.models.model: `artifact_path` is deprecated. Please use `name` instead.\n",
      "2025/07/14 21:33:13 WARNING mlflow.models.model: Model logged without a signature and input example. Please set `input_example` parameter when logging the model to auto infer the model signature.\n",
      "[codecarbon INFO @ 21:33:13] Energy consumed for RAM : 0.000031 kWh. RAM Power : 20.0 W\n",
      "[codecarbon INFO @ 21:33:13] Delta energy consumed for CPU with constant : 0.000174 kWh, power : 112.0 W\n",
      "[codecarbon INFO @ 21:33:13] Energy consumed for All CPU : 0.000174 kWh\n",
      "[codecarbon INFO @ 21:33:13] 0.000205 kWh of electricity used since the beginning.\n"
     ]
    }
   ],
   "source": [
    "!python mlflow_scripts/train.py --version v1 --alpha 1.0 --features height weight"
   ]
  },
  {
   "cell_type": "code",
   "execution_count": 15,
   "id": "88356e6f",
   "metadata": {},
   "outputs": [
    {
     "name": "stderr",
     "output_type": "stream",
     "text": [
      "[codecarbon WARNING @ 21:33:22] Multiple instances of codecarbon are allowed to run at the same time.\n",
      "[codecarbon INFO @ 21:33:22] [setup] RAM Tracking...\n",
      "[codecarbon INFO @ 21:33:22] [setup] CPU Tracking...\n",
      "[codecarbon WARNING @ 21:33:23] No CPU tracking mode found. Falling back on estimation based on TDP for CPU. \n",
      " Windows OS detected: Please install Intel Power Gadget to measure CPU\n",
      "\n",
      "[codecarbon INFO @ 21:33:23] CPU Model on constant consumption mode: 11th Gen Intel(R) Core(TM) i7-1165G7 @ 2.80GHz\n",
      "[codecarbon WARNING @ 21:33:23] No CPU tracking mode found. Falling back on CPU constant mode.\n",
      "[codecarbon INFO @ 21:33:23] [setup] GPU Tracking...\n",
      "[codecarbon INFO @ 21:33:23] No GPU found.\n",
      "[codecarbon INFO @ 21:33:23] The below tracking methods have been set up:\n",
      "                RAM Tracking Method: RAM power estimation model\n",
      "                CPU Tracking Method: global constant\n",
      "                GPU Tracking Method: Unspecified\n",
      "            \n",
      "[codecarbon INFO @ 21:33:23] >>> Tracker's metadata:\n",
      "[codecarbon INFO @ 21:33:23]   Platform system: Windows-11-10.0.26100-SP0\n",
      "[codecarbon INFO @ 21:33:23]   Python version: 3.12.3\n",
      "[codecarbon INFO @ 21:33:23]   CodeCarbon version: 3.0.2\n",
      "[codecarbon INFO @ 21:33:23]   Available RAM : 31.709 GB\n",
      "[codecarbon INFO @ 21:33:23]   CPU count: 8 thread(s) in 8 physical CPU(s)\n",
      "[codecarbon INFO @ 21:33:23]   CPU model: 11th Gen Intel(R) Core(TM) i7-1165G7 @ 2.80GHz\n",
      "[codecarbon INFO @ 21:33:23]   GPU count: None\n",
      "[codecarbon INFO @ 21:33:23]   GPU model: None\n",
      "[codecarbon INFO @ 21:33:26] Emissions data (if any) will be saved to file d:\\UCHICAGO\\UChicago Courses\\Machine Learning Operations\\Week3\\mlops_assignment2\\venv\\emissions.csv\n",
      "2025/07/14 21:33:27 WARNING mlflow.models.model: `artifact_path` is deprecated. Please use `name` instead.\n",
      "2025/07/14 21:33:31 WARNING mlflow.models.model: Model logged without a signature and input example. Please set `input_example` parameter when logging the model to auto infer the model signature.\n",
      "[codecarbon INFO @ 21:33:31] Energy consumed for RAM : 0.000027 kWh. RAM Power : 20.0 W\n",
      "[codecarbon INFO @ 21:33:31] Delta energy consumed for CPU with constant : 0.000154 kWh, power : 112.0 W\n",
      "[codecarbon INFO @ 21:33:31] Energy consumed for All CPU : 0.000154 kWh\n",
      "[codecarbon INFO @ 21:33:31] 0.000182 kWh of electricity used since the beginning.\n"
     ]
    }
   ],
   "source": [
    "!python mlflow_scripts/train.py --version v1 --alpha 0.5 --features height weight age"
   ]
  },
  {
   "cell_type": "code",
   "execution_count": 16,
   "id": "5d5712b5",
   "metadata": {},
   "outputs": [
    {
     "name": "stderr",
     "output_type": "stream",
     "text": [
      "[codecarbon WARNING @ 21:36:20] Multiple instances of codecarbon are allowed to run at the same time.\n",
      "[codecarbon INFO @ 21:36:20] [setup] RAM Tracking...\n",
      "[codecarbon INFO @ 21:36:20] [setup] CPU Tracking...\n",
      "[codecarbon WARNING @ 21:36:21] No CPU tracking mode found. Falling back on estimation based on TDP for CPU. \n",
      " Windows OS detected: Please install Intel Power Gadget to measure CPU\n",
      "\n",
      "[codecarbon INFO @ 21:36:21] CPU Model on constant consumption mode: 11th Gen Intel(R) Core(TM) i7-1165G7 @ 2.80GHz\n",
      "[codecarbon WARNING @ 21:36:21] No CPU tracking mode found. Falling back on CPU constant mode.\n",
      "[codecarbon INFO @ 21:36:21] [setup] GPU Tracking...\n",
      "[codecarbon INFO @ 21:36:21] No GPU found.\n",
      "[codecarbon INFO @ 21:36:21] The below tracking methods have been set up:\n",
      "                RAM Tracking Method: RAM power estimation model\n",
      "                CPU Tracking Method: global constant\n",
      "                GPU Tracking Method: Unspecified\n",
      "            \n",
      "[codecarbon INFO @ 21:36:21] >>> Tracker's metadata:\n",
      "[codecarbon INFO @ 21:36:21]   Platform system: Windows-11-10.0.26100-SP0\n",
      "[codecarbon INFO @ 21:36:21]   Python version: 3.12.3\n",
      "[codecarbon INFO @ 21:36:21]   CodeCarbon version: 3.0.2\n",
      "[codecarbon INFO @ 21:36:21]   Available RAM : 31.709 GB\n",
      "[codecarbon INFO @ 21:36:21]   CPU count: 8 thread(s) in 8 physical CPU(s)\n",
      "[codecarbon INFO @ 21:36:21]   CPU model: 11th Gen Intel(R) Core(TM) i7-1165G7 @ 2.80GHz\n",
      "[codecarbon INFO @ 21:36:21]   GPU count: None\n",
      "[codecarbon INFO @ 21:36:21]   GPU model: None\n",
      "[codecarbon INFO @ 21:36:25] Emissions data (if any) will be saved to file d:\\UCHICAGO\\UChicago Courses\\Machine Learning Operations\\Week3\\mlops_assignment2\\venv\\emissions.csv\n",
      "2025/07/14 21:36:25 WARNING mlflow.models.model: `artifact_path` is deprecated. Please use `name` instead.\n",
      "2025/07/14 21:36:30 WARNING mlflow.models.model: Model logged without a signature and input example. Please set `input_example` parameter when logging the model to auto infer the model signature.\n",
      "[codecarbon INFO @ 21:36:30] Energy consumed for RAM : 0.000029 kWh. RAM Power : 20.0 W\n",
      "[codecarbon INFO @ 21:36:30] Delta energy consumed for CPU with constant : 0.000164 kWh, power : 112.0 W\n",
      "[codecarbon INFO @ 21:36:30] Energy consumed for All CPU : 0.000164 kWh\n",
      "[codecarbon INFO @ 21:36:30] 0.000194 kWh of electricity used since the beginning.\n"
     ]
    }
   ],
   "source": [
    "!python mlflow_scripts/train.py --version v1 --alpha 1.0 --features height weight age"
   ]
  },
  {
   "cell_type": "code",
   "execution_count": 1,
   "id": "7dfac6f3",
   "metadata": {},
   "outputs": [],
   "source": [
    "#!mlflow ui"
   ]
  },
  {
   "cell_type": "markdown",
   "id": "1e6a539a",
   "metadata": {},
   "source": [
    "###  Adding age with height and weight reduces MSE and also 0.5 alpha is the best in terms of carbon emissions and MSE"
   ]
  }
 ],
 "metadata": {
  "kernelspec": {
   "display_name": "venv",
   "language": "python",
   "name": "python3"
  },
  "language_info": {
   "codemirror_mode": {
    "name": "ipython",
    "version": 3
   },
   "file_extension": ".py",
   "mimetype": "text/x-python",
   "name": "python",
   "nbconvert_exporter": "python",
   "pygments_lexer": "ipython3",
   "version": "3.12.3"
  }
 },
 "nbformat": 4,
 "nbformat_minor": 5
}
